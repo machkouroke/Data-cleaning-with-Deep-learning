{
 "cells": [
  {
   "attachments": {},
   "cell_type": "markdown",
   "metadata": {
    "datalore": {
     "hide_input_from_viewers": false,
     "hide_output_from_viewers": false,
     "node_id": "IxMrUIS92zdRcTHOils3uh",
     "type": "MD"
    }
   },
   "source": [
    "# Contenu\n",
    "\n",
    "- [Contenu](attachment:./#Contenu)\n",
    "- [Chargement des données](attachment:./#Chargement-des-données)\n",
    "  * [Description des données](attachment:./#Description-des-données)\n",
    "  * [Chargement](attachment:./#Chargement)\n",
    "- [Affectation de type correctes au données](attachment:./#Affectation-de-type-correctes-au-données)\n",
    "- [Génération des données manquantes](attachment:./#Génération-des-données-manquantes)\n",
    "- [Génération des types de données manquantes](attachment:./#Génération-des-types-de-données-manquantes)\n",
    "- [Construction des réseaux de neurones](attachment:./#Construction-des-réseaux-de-neurones)\n",
    "- [Comparaison des techniques d'imputation](attachment:./#Comparaison-des-techniques-d'imputation)\n",
    "  * [Imputation des données avec le réseau de neurone](attachment:./#Imputation-des-données-avec-le-réseau-de-neurone)\n",
    "  * [Imputation avec le mode](attachment:./#Imputation-avec-le-mode)\n",
    "  * [Imputation avec le KNN](attachment:./#Imputation-avec-le-KNN)\n",
    "  * [Comparaison](attachment:./#Comparaison)"
   ]
  },
  {
   "attachments": {},
   "cell_type": "markdown",
   "metadata": {
    "datalore": {
     "hide_input_from_viewers": false,
     "hide_output_from_viewers": false,
     "node_id": "FuQ8xeEwV0ARLefhVMb4pZ",
     "type": "MD"
    }
   },
   "source": [
    "# Description et chargement des données\n",
    "## Description des données\n",
    "Cet ensemble de données est un sous-ensemble de l'enquête nationale de 1987 sur la prévalence de la contraception en Indonésie.  Les échantillons sont des femmes mariées qui n'étaient pas enceintes ou qui ne savent pas si elles l'étaient au moment de l'interview. Le problème est de prédire le choix de la méthode contraceptive actuelle (pas d'utilisation, méthodes à long terme ou méthodes à court terme) d'une femme  sur la base de ses caractéristiques démographiques et socio-économiques.\n",
    "\n",
    "Il est constitué de 1473 enrégistrement et contient les colonnes suivantes:\n",
    "\n",
    "   1. Wife's age                     (numerical)\n",
    "   2. Wife's education               (categorical)      1=low, 2, 3, 4=high\n",
    "   3. Husband's education            (categorical)      1=low, 2, 3, 4=high\n",
    "   4. Number of children ever born   (numerical)\n",
    "   5. Wife's religion                (binary)           0=Non-Islam, 1=Islam\n",
    "   6. Wife's now working?            (binary)           0=Yes, 1=No\n",
    "   7. Husband's occupation           (categorical)      1, 2, 3, 4\n",
    "   8. Standard-of-living index       (categorical)      1=low, 2, 3, 4=high\n",
    "   9. Media exposure                 (binary)           0=Good, 1=Not good\n",
    "   10. Contraceptive method used     (class attribute)  (1=No-use, 2=Long-term, 3=Short-term)"
   ]
  },
  {
   "attachments": {},
   "cell_type": "markdown",
   "metadata": {
    "datalore": {
     "hide_input_from_viewers": false,
     "hide_output_from_viewers": false,
     "node_id": "vn28lR2K1cf4DQ1OmzYWAw",
     "type": "MD"
    }
   },
   "source": [
    "## Chargement des données"
   ]
  },
  {
   "cell_type": "code",
   "execution_count": 1,
   "metadata": {
    "datalore": {
     "hide_input_from_viewers": false,
     "hide_output_from_viewers": false,
     "node_id": "fi1XB6s6QFoUlU7bDVhNQc",
     "type": "CODE"
    }
   },
   "outputs": [],
   "source": [
    "cols_names = [\"Wife's age\",\n",
    "              \"Wife's education\",\n",
    "              \"Husband's education\",\n",
    "              \"Number of children ever born\",\n",
    "              \"Wife's religion\",\n",
    "              \"Wife's now working?\",\n",
    "              \"Husband's occupation\",\n",
    "              \"Standard-of-living index\",\n",
    "              \"Media exposure\",\n",
    "              \"Contraceptive method used\"]"
   ]
  },
  {
   "cell_type": "code",
   "execution_count": 4,
   "metadata": {
    "datalore": {
     "hide_input_from_viewers": false,
     "hide_output_from_viewers": false,
     "node_id": "7F8JMtng05I08gwdhZC3Xe",
     "type": "CODE"
    }
   },
   "outputs": [
    {
     "data": {
      "text/html": [
       "<div>\n",
       "<style scoped>\n",
       "    .dataframe tbody tr th:only-of-type {\n",
       "        vertical-align: middle;\n",
       "    }\n",
       "\n",
       "    .dataframe tbody tr th {\n",
       "        vertical-align: top;\n",
       "    }\n",
       "\n",
       "    .dataframe thead th {\n",
       "        text-align: right;\n",
       "    }\n",
       "</style>\n",
       "<table border=\"1\" class=\"dataframe\">\n",
       "  <thead>\n",
       "    <tr style=\"text-align: right;\">\n",
       "      <th></th>\n",
       "      <th>Wife's age</th>\n",
       "      <th>Wife's education</th>\n",
       "      <th>Husband's education</th>\n",
       "      <th>Number of children ever born</th>\n",
       "      <th>Wife's religion</th>\n",
       "      <th>Wife's now working?</th>\n",
       "      <th>Husband's occupation</th>\n",
       "      <th>Standard-of-living index</th>\n",
       "      <th>Media exposure</th>\n",
       "      <th>Contraceptive method used</th>\n",
       "    </tr>\n",
       "  </thead>\n",
       "  <tbody>\n",
       "    <tr>\n",
       "      <th>0</th>\n",
       "      <td>24</td>\n",
       "      <td>2</td>\n",
       "      <td>3</td>\n",
       "      <td>3</td>\n",
       "      <td>1</td>\n",
       "      <td>1</td>\n",
       "      <td>2</td>\n",
       "      <td>3</td>\n",
       "      <td>0</td>\n",
       "      <td>1</td>\n",
       "    </tr>\n",
       "    <tr>\n",
       "      <th>1</th>\n",
       "      <td>45</td>\n",
       "      <td>1</td>\n",
       "      <td>3</td>\n",
       "      <td>10</td>\n",
       "      <td>1</td>\n",
       "      <td>1</td>\n",
       "      <td>3</td>\n",
       "      <td>4</td>\n",
       "      <td>0</td>\n",
       "      <td>1</td>\n",
       "    </tr>\n",
       "    <tr>\n",
       "      <th>2</th>\n",
       "      <td>43</td>\n",
       "      <td>2</td>\n",
       "      <td>3</td>\n",
       "      <td>7</td>\n",
       "      <td>1</td>\n",
       "      <td>1</td>\n",
       "      <td>3</td>\n",
       "      <td>4</td>\n",
       "      <td>0</td>\n",
       "      <td>1</td>\n",
       "    </tr>\n",
       "    <tr>\n",
       "      <th>3</th>\n",
       "      <td>42</td>\n",
       "      <td>3</td>\n",
       "      <td>2</td>\n",
       "      <td>9</td>\n",
       "      <td>1</td>\n",
       "      <td>1</td>\n",
       "      <td>3</td>\n",
       "      <td>3</td>\n",
       "      <td>0</td>\n",
       "      <td>1</td>\n",
       "    </tr>\n",
       "    <tr>\n",
       "      <th>4</th>\n",
       "      <td>36</td>\n",
       "      <td>3</td>\n",
       "      <td>3</td>\n",
       "      <td>8</td>\n",
       "      <td>1</td>\n",
       "      <td>1</td>\n",
       "      <td>3</td>\n",
       "      <td>2</td>\n",
       "      <td>0</td>\n",
       "      <td>1</td>\n",
       "    </tr>\n",
       "  </tbody>\n",
       "</table>\n",
       "</div>"
      ],
      "text/plain": [
       "   Wife's age  Wife's education  Husband's education  \\\n",
       "0          24                 2                    3   \n",
       "1          45                 1                    3   \n",
       "2          43                 2                    3   \n",
       "3          42                 3                    2   \n",
       "4          36                 3                    3   \n",
       "\n",
       "   Number of children ever born  Wife's religion  Wife's now working?  \\\n",
       "0                             3                1                    1   \n",
       "1                            10                1                    1   \n",
       "2                             7                1                    1   \n",
       "3                             9                1                    1   \n",
       "4                             8                1                    1   \n",
       "\n",
       "   Husband's occupation  Standard-of-living index  Media exposure  \\\n",
       "0                     2                         3               0   \n",
       "1                     3                         4               0   \n",
       "2                     3                         4               0   \n",
       "3                     3                         3               0   \n",
       "4                     3                         2               0   \n",
       "\n",
       "   Contraceptive method used  \n",
       "0                          1  \n",
       "1                          1  \n",
       "2                          1  \n",
       "3                          1  \n",
       "4                          1  "
      ]
     },
     "execution_count": 4,
     "metadata": {},
     "output_type": "execute_result"
    }
   ],
   "source": [
    "import pandas as pd\n",
    "\n",
    "data_cmc: pd.DataFrame = pd.read_csv('data/cmc.csv', header=None, names=cols_names)\n",
    "data_cmc.head()"
   ]
  },
  {
   "attachments": {},
   "cell_type": "markdown",
   "metadata": {
    "datalore": {
     "hide_input_from_viewers": false,
     "hide_output_from_viewers": false,
     "node_id": "H4cemTIpAjzBjQQmbrXco5",
     "type": "MD"
    }
   },
   "source": [
    "# Affectation de type correctes au données"
   ]
  },
  {
   "attachments": {},
   "cell_type": "markdown",
   "metadata": {
    "datalore": {
     "hide_input_from_viewers": false,
     "hide_output_from_viewers": false,
     "node_id": "XvDl5qALSz2d7l6O241YPR",
     "type": "MD"
    }
   },
   "source": [
    "Pour avoir un programme plus efficaces on vas convertir en type `category` les variables marqué comme catégorique"
   ]
  },
  {
   "cell_type": "code",
   "execution_count": 5,
   "metadata": {
    "datalore": {
     "hide_input_from_viewers": false,
     "hide_output_from_viewers": false,
     "node_id": "WEeh2YRcvFR3ushVKHQABe",
     "type": "CODE"
    }
   },
   "outputs": [
    {
     "data": {
      "text/plain": [
       "Wife's age                      int64\n",
       "Wife's education                int64\n",
       "Husband's education             int64\n",
       "Number of children ever born    int64\n",
       "Wife's religion                 int64\n",
       "Wife's now working?             int64\n",
       "Husband's occupation            int64\n",
       "Standard-of-living index        int64\n",
       "Media exposure                  int64\n",
       "Contraceptive method used       int64\n",
       "dtype: object"
      ]
     },
     "execution_count": 5,
     "metadata": {},
     "output_type": "execute_result"
    }
   ],
   "source": [
    "data_cmc.dtypes"
   ]
  },
  {
   "attachments": {},
   "cell_type": "markdown",
   "metadata": {
    "datalore": {
     "hide_input_from_viewers": false,
     "hide_output_from_viewers": false,
     "node_id": "P3xBP84YrMezVMt99m5aak",
     "type": "MD"
    }
   },
   "source": [
    "La prédiction des réseaux de neurone commencent à **0** on vas mettre nos donné sur une échelle de **0 à n-1**  plutôt que **1 à n**"
   ]
  },
  {
   "cell_type": "code",
   "execution_count": 6,
   "metadata": {
    "datalore": {
     "hide_input_from_viewers": false,
     "hide_output_from_viewers": false,
     "node_id": "vjBI0w1iTzSGJBg4AalXuC",
     "type": "CODE"
    }
   },
   "outputs": [],
   "source": [
    "cols_to_scale = [\"Wife's education\",\n",
    "                 \"Husband's education\",\n",
    "                 \"Husband's occupation\",\n",
    "                 \"Standard-of-living index\",\n",
    "                 \"Contraceptive method used\"]\n",
    "data_cmc[cols_to_scale] = data_cmc[cols_to_scale].apply(lambda x: x - 1)"
   ]
  },
  {
   "cell_type": "code",
   "execution_count": 7,
   "metadata": {
    "datalore": {
     "hide_input_from_viewers": false,
     "hide_output_from_viewers": false,
     "node_id": "964vFwAAntzWYvB7fR7w8f",
     "type": "CODE"
    }
   },
   "outputs": [
    {
     "name": "stdout",
     "output_type": "stream",
     "text": [
      "Vérification des ranges des données\n",
      "Wife's education: [1 0 2 3]\n",
      "Husband's education: [2 1 3 0]\n",
      "Husband's occupation: [1 2 0 3]\n",
      "Standard-of-living index: [2 3 1 0]\n",
      "Contraceptive method used: [0 1 2]\n"
     ]
    }
   ],
   "source": [
    "print(\"Vérification des ranges des données\")\n",
    "for col in cols_to_scale:\n",
    "    print(f'{col}: {data_cmc[col].unique()}')"
   ]
  },
  {
   "cell_type": "code",
   "execution_count": 8,
   "metadata": {
    "datalore": {
     "hide_input_from_viewers": false,
     "hide_output_from_viewers": false,
     "node_id": "EeqWs8WPFKAZsy0a4cXG2H",
     "type": "CODE"
    }
   },
   "outputs": [
    {
     "name": "stdout",
     "output_type": "stream",
     "text": [
      "Vérification des types des données\n"
     ]
    },
    {
     "data": {
      "text/plain": [
       "Wife's age                         int64\n",
       "Wife's education                category\n",
       "Husband's education             category\n",
       "Number of children ever born       int64\n",
       "Wife's religion                 category\n",
       "Wife's now working?             category\n",
       "Husband's occupation            category\n",
       "Standard-of-living index        category\n",
       "Media exposure                  category\n",
       "Contraceptive method used       category\n",
       "dtype: object"
      ]
     },
     "execution_count": 8,
     "metadata": {},
     "output_type": "execute_result"
    }
   ],
   "source": [
    "categorical_data = [\"Wife's education\", \"Wife's religion\", \"Wife's now working?\", \"Media exposure\",\n",
    "                    \"Husband's education\", \"Husband's occupation\", \"Standard-of-living index\",\n",
    "                    \"Contraceptive method used\"]\n",
    "for column in categorical_data:\n",
    "    data_cmc[column] = data_cmc[column].astype('category')\n",
    "print(\"Vérification des types des données\")\n",
    "data_cmc.dtypes"
   ]
  },
  {
   "attachments": {},
   "cell_type": "markdown",
   "metadata": {
    "datalore": {
     "hide_input_from_viewers": false,
     "hide_output_from_viewers": false,
     "node_id": "QQJBW8ZwmpUxZ6ok6NgbHP",
     "type": "MD"
    }
   },
   "source": [
    "# Génération des données manquantes\n",
    "Notre Datasets ne contient aucune donées manquantes. Toutefois dans le cadre de notre expérience, nous allons générer des données manquantes de tous types"
   ]
  },
  {
   "cell_type": "code",
   "execution_count": 9,
   "metadata": {
    "datalore": {
     "hide_input_from_viewers": false,
     "hide_output_from_viewers": false,
     "node_id": "eqN8zbiD3HYb9wRG9yxHp9",
     "type": "CODE"
    }
   },
   "outputs": [
    {
     "name": "stdout",
     "output_type": "stream",
     "text": [
      "Vérification du nombre de donnée manquante\n"
     ]
    },
    {
     "data": {
      "text/plain": [
       "Wife's age                      0\n",
       "Wife's education                0\n",
       "Husband's education             0\n",
       "Number of children ever born    0\n",
       "Wife's religion                 0\n",
       "Wife's now working?             0\n",
       "Husband's occupation            0\n",
       "Standard-of-living index        0\n",
       "Media exposure                  0\n",
       "Contraceptive method used       0\n",
       "dtype: int64"
      ]
     },
     "execution_count": 9,
     "metadata": {},
     "output_type": "execute_result"
    }
   ],
   "source": [
    "print(\"Vérification du nombre de donnée manquante\")\n",
    "data_cmc.isna().sum()"
   ]
  },
  {
   "attachments": {},
   "cell_type": "markdown",
   "metadata": {
    "datalore": {
     "hide_input_from_viewers": false,
     "hide_output_from_viewers": false,
     "node_id": "YPE0QUpn6g0PBPX73pt8Z6",
     "type": "MD"
    }
   },
   "source": [
    "# Génération des types de données manquantes"
   ]
  },
  {
   "cell_type": "code",
   "execution_count": 11,
   "metadata": {
    "datalore": {
     "hide_input_from_viewers": false,
     "hide_output_from_viewers": false,
     "node_id": "mPKNWtm0Xmb1mI9NroNvbm",
     "type": "CODE"
    }
   },
   "outputs": [
    {
     "data": {
      "text/plain": [
       "Wife's age                       9\n",
       "Wife's education                12\n",
       "Husband's education              7\n",
       "Number of children ever born    16\n",
       "Wife's religion                  6\n",
       "Wife's now working?             14\n",
       "Husband's occupation            13\n",
       "Standard-of-living index         9\n",
       "Media exposure                   7\n",
       "Contraceptive method used       11\n",
       "dtype: int64"
      ]
     },
     "execution_count": 11,
     "metadata": {},
     "output_type": "execute_result"
    }
   ],
   "source": [
    "from utils.utils import NaProducter\n",
    "\n",
    "\n",
    "def generate_missing(init_data, p_miss, seed_value=2022, mecha=\"MCAR\", p_obs=0.6):\n",
    "    generator = NaProducter(seed_value=seed_value)\n",
    "    data_with_missing = generator.produce_NA(init_data, p_miss, mecha=mecha, p_obs=p_obs)\n",
    "    return pd.DataFrame(data_with_missing['X_incomp'].numpy(), columns=cols_names)\n",
    "\n",
    "\n",
    "data_with_missing_inc = generate_missing(data_cmc.values, 0.006)\n",
    "data_with_missing_inc.isna().sum()"
   ]
  },
  {
   "attachments": {},
   "cell_type": "markdown",
   "metadata": {
    "datalore": {
     "hide_input_from_viewers": false,
     "hide_output_from_viewers": false,
     "node_id": "Pi0kq4sRzErWuyYriuwpYo",
     "type": "MD"
    }
   },
   "source": [
    "Vu que notre étude cherche à prédire les valeurs manquantes discrètes finis, nous allons décanter les colonnes avec des valeurs manquantes inifinis qui peuvent en effet être considéré comme continue."
   ]
  },
  {
   "cell_type": "code",
   "execution_count": 12,
   "metadata": {
    "datalore": {
     "hide_input_from_viewers": false,
     "hide_output_from_viewers": false,
     "node_id": "4BTvIiO3VRNHTLarktOIKB",
     "type": "CODE"
    }
   },
   "outputs": [
    {
     "data": {
      "text/plain": [
       "Wife's age                       0\n",
       "Wife's education                12\n",
       "Husband's education              7\n",
       "Number of children ever born     0\n",
       "Wife's religion                  6\n",
       "Wife's now working?             14\n",
       "Husband's occupation            13\n",
       "Standard-of-living index         9\n",
       "Media exposure                   7\n",
       "Contraceptive method used       11\n",
       "dtype: int64"
      ]
     },
     "execution_count": 12,
     "metadata": {},
     "output_type": "execute_result"
    }
   ],
   "source": [
    "integer_columns = [\"Wife's age\", \"Number of children ever born\"]\n",
    "for column in integer_columns:\n",
    "    data_with_missing_inc[column] = data_cmc[column]\n",
    "data_with_missing_inc.isna().sum()"
   ]
  },
  {
   "attachments": {},
   "cell_type": "markdown",
   "metadata": {
    "datalore": {
     "hide_input_from_viewers": false,
     "hide_output_from_viewers": false,
     "node_id": "I2bAwrF3N5WHqaowuqtd2T",
     "type": "MD"
    }
   },
   "source": [
    "# Construction de l'imputeur\n",
    "## Description des fonctions\n",
    "\n",
    "- `missing_type_detector(row) -> tuple`: Cette fonction prend une ligne donnée puis retourne un tuple contenant les indices des colonnes de la ligne ou les valeurs sont manquantes\n",
    "  \n",
    "- `missing_type_init(self)`: Cette méthode calcule tout les types manquants de la donnée entré. Elle se sert de la méthode précédente\n",
    "  \n",
    "- `model_init(num_features: int, num_classes: int) -> Sequential`: Crée un perceptron multicouche avec `num_features` neurone sur la première couche et `num_classes` sur la dernière couche\n",
    "\n",
    "- `fit_missing_type(self, missing_type: tuple) -> dict` : Retourne pour un type de donnée manquant un ensemble de réseaux de neurone ayant en sortie l'une des colonnes manquantes\n",
    "\n",
    "- `fit_all_missing_type(self)` : Pour tout les types manquants entraine un perceptron multicouche puis le sauvegarde dans les modèles de la classes"
   ]
  },
  {
   "cell_type": "code",
   "execution_count": 13,
   "metadata": {
    "datalore": {
     "hide_input_from_viewers": false,
     "hide_output_from_viewers": false,
     "node_id": "UXCkC4fCN5sKSloqdZERxX",
     "type": "CODE"
    }
   },
   "outputs": [],
   "source": [
    "from tqdm import tqdm\n",
    "import tensorflow as tf\n",
    "from tensorflow.keras.models import Sequential\n",
    "from tensorflow.keras.layers import Dense\n",
    "from tensorflow.keras.optimizers import SGD\n",
    "import numpy as np\n",
    "\n",
    "\n",
    "class IMLPImputer:\n",
    "    def __init__(self):\n",
    "        self.models: dict = {}\n",
    "        self.missing_types: dict = {}\n",
    "        self.X: pd.DataFrame = pd.DataFrame()\n",
    "\n",
    "    def transform(self, datasets: pd.DataFrame):\n",
    "        data_filled: pd.DataFrame = datasets.copy(deep=True)\n",
    "        for line, row in tqdm(data_filled.iterrows()):\n",
    "            mtype = self.missing_type_detector(row)\n",
    "            if mtype:\n",
    "                model = self.models[mtype]\n",
    "                pred = self.predict_missing(mtype, line, model)\n",
    "                for col, value in pred.items():\n",
    "                    data_filled.iloc[line, col] = value\n",
    "        return data_filled\n",
    "\n",
    "    def fit_transform(self, datasets: pd.DataFrame):\n",
    "        self.fit(datasets)\n",
    "        return self.transform(datasets)\n",
    "\n",
    "    def fit_all_missing_type(self):\n",
    "        for key in tqdm(self.missing_types_permuted):\n",
    "            self.models[key] = self.fit_missing_type(key)\n",
    "\n",
    "    def fit(self, datasets: pd.DataFrame):\n",
    "        self.X = datasets.copy(deep=True)\n",
    "        self.missing_type_init()\n",
    "        self.fit_all_missing_type()\n",
    "\n",
    "    @staticmethod\n",
    "    def model_init(num_features: int, num_classes: int) -> Sequential:\n",
    "        model = Sequential([\n",
    "\n",
    "            # dense layer 1\n",
    "            Dense(32, input_shape=(num_features,), activation='relu'),\n",
    "\n",
    "            # dense layer 2\n",
    "            Dense(32, activation='relu'),\n",
    "\n",
    "            Dense(32, activation='relu'),\n",
    "\n",
    "            # output layer\n",
    "            Dense(num_classes, activation='softmax'),\n",
    "        ])\n",
    "        sgd = SGD(momentum=0.9, learning_rate=0.001)\n",
    "        model.compile(optimizer=sgd, loss=tf.keras.losses.SparseCategoricalCrossentropy(\n",
    "            from_logits=False,\n",
    "            reduction=\"auto\",\n",
    "            name=\"sparse_categorical_crossentropy\",\n",
    "        ))\n",
    "        return model\n",
    "\n",
    "    @property\n",
    "    def d_comp(self):\n",
    "        return self.X[~self.X.isna().any(axis=1)]\n",
    "\n",
    "    @property\n",
    "    def d_miss(self):\n",
    "        return self.X[self.X.isna().any(axis=1)]\n",
    "\n",
    "    @property\n",
    "    def missing_types_permuted(self):\n",
    "        return {value: key for key, value in self.missing_types.items()}\n",
    "\n",
    "    def fit_missing_type(self, missing_type: tuple) -> dict:\n",
    "        missing_type = list(missing_type)\n",
    "        model = {}\n",
    "        X_train, y_train = self.d_comp.drop(self.d_comp.columns[missing_type], axis=1).values, self.d_comp.values[:,\n",
    "                                                                                               missing_type]\n",
    "        for i in range(len(missing_type)):\n",
    "            model[missing_type[i]] = self.model_init(num_features=X_train.shape[\n",
    "                1], num_classes=len(np.unique(y_train[:,\n",
    "                                              i])))\n",
    "            model[missing_type[i]].fit(X_train, y_train[:, i], epochs=1000, batch_size=256, verbose=0)\n",
    "        return model\n",
    "\n",
    "    # noinspection PyPep8Naming\n",
    "    def predict_missing(self, missing_type: tuple, line: int, models: dict):\n",
    "        missing_type = list(missing_type)\n",
    "        X_test = self.d_miss.drop(self.d_comp.columns[missing_type], axis=1).loc[line, :].values.reshape(1, -1)\n",
    "        prediction = {}\n",
    "        for col, model in models.items():\n",
    "            prediction[col] = np.argmax(model.predict(X_test, verbose=0), axis=1)\n",
    "        return {key: value[0] for key, value in prediction.items()}\n",
    "\n",
    "    @staticmethod\n",
    "    def missing_type_detector(row) -> tuple:\n",
    "        return tuple(np.where(np.isnan(row), 1, 0).nonzero()[0])\n",
    "\n",
    "    def missing_type_init(self):\n",
    "        for index, rows in self.d_miss.iterrows():\n",
    "            if (mt := self.missing_type_detector(rows.values)) not in self.missing_types.values():\n",
    "                self.missing_types[f'mt{index}'] = mt\n",
    "        "
   ]
  },
  {
   "attachments": {},
   "cell_type": "markdown",
   "metadata": {
    "datalore": {
     "hide_input_from_viewers": false,
     "hide_output_from_viewers": false,
     "node_id": "CrjGD8KpZ2O6eyYqrzajVP",
     "type": "MD"
    }
   },
   "source": [
    "# Comparaison des techniques d'imputation\n",
    "## Imputation des données avec le réseau de neurone"
   ]
  },
  {
   "cell_type": "code",
   "execution_count": 14,
   "metadata": {
    "datalore": {
     "hide_input_from_viewers": false,
     "hide_output_from_viewers": false,
     "node_id": "FozSd9zGyNEkPELjzP3TZb",
     "type": "CODE"
    }
   },
   "outputs": [
    {
     "name": "stderr",
     "output_type": "stream",
     "text": [
      "100%|██████████████████████████████████████████████████████████████████████████████████████████████████████████| 9/9 [01:33<00:00, 10.40s/it]\n",
      "51it [00:00, 140.15it/s]"
     ]
    },
    {
     "name": "stdout",
     "output_type": "stream",
     "text": [
      "WARNING:tensorflow:5 out of the last 7 calls to <function Model.make_predict_function.<locals>.predict_function at 0x000001D12B73BA30> triggered tf.function retracing. Tracing is expensive and the excessive number of tracings could be due to (1) creating @tf.function repeatedly in a loop, (2) passing tensors with different shapes, (3) passing Python objects instead of tensors. For (1), please define your @tf.function outside of the loop. For (2), @tf.function has reduce_retracing=True option that can avoid unnecessary retracing. For (3), please refer to https://www.tensorflow.org/guide/function#controlling_retracing and https://www.tensorflow.org/api_docs/python/tf/function for  more details.\n"
     ]
    },
    {
     "name": "stderr",
     "output_type": "stream",
     "text": [
      "127it [00:00, 263.79it/s]"
     ]
    },
    {
     "name": "stdout",
     "output_type": "stream",
     "text": [
      "WARNING:tensorflow:6 out of the last 9 calls to <function Model.make_predict_function.<locals>.predict_function at 0x000001D12D7E4550> triggered tf.function retracing. Tracing is expensive and the excessive number of tracings could be due to (1) creating @tf.function repeatedly in a loop, (2) passing tensors with different shapes, (3) passing Python objects instead of tensors. For (1), please define your @tf.function outside of the loop. For (2), @tf.function has reduce_retracing=True option that can avoid unnecessary retracing. For (3), please refer to https://www.tensorflow.org/guide/function#controlling_retracing and https://www.tensorflow.org/api_docs/python/tf/function for  more details.\n"
     ]
    },
    {
     "name": "stderr",
     "output_type": "stream",
     "text": [
      "1473it [00:04, 310.89it/s]\n"
     ]
    },
    {
     "data": {
      "text/plain": [
       "Wife's age                      0\n",
       "Wife's education                0\n",
       "Husband's education             0\n",
       "Number of children ever born    0\n",
       "Wife's religion                 0\n",
       "Wife's now working?             0\n",
       "Husband's occupation            0\n",
       "Standard-of-living index        0\n",
       "Media exposure                  0\n",
       "Contraceptive method used       0\n",
       "dtype: int64"
      ]
     },
     "execution_count": 14,
     "metadata": {},
     "output_type": "execute_result"
    }
   ],
   "source": [
    "imlpImputer = IMLPImputer()\n",
    "filled_with_mlp = imlpImputer.fit_transform(data_with_missing_inc)\n",
    "filled_with_mlp[\"Contraceptive method used\"] = data_cmc[\"Contraceptive method used\"]\n",
    "filled_with_mlp.isna().sum()"
   ]
  },
  {
   "attachments": {},
   "cell_type": "markdown",
   "metadata": {
    "datalore": {
     "hide_input_from_viewers": false,
     "hide_output_from_viewers": false,
     "node_id": "Lo3fqVYWrVBf4GhlhU02nw",
     "type": "MD"
    }
   },
   "source": [
    "Pour les deux méthodes de comparaisons on vas utiliser les implémentations scikit-learn\n",
    "\n",
    "## Imputation avec le mode"
   ]
  },
  {
   "cell_type": "code",
   "execution_count": 15,
   "metadata": {
    "datalore": {
     "hide_input_from_viewers": false,
     "hide_output_from_viewers": false,
     "node_id": "JFQEJjRz0lCd26byGWlf9R",
     "type": "CODE"
    }
   },
   "outputs": [
    {
     "data": {
      "text/plain": [
       "Wife's age                      0\n",
       "Wife's education                0\n",
       "Husband's education             0\n",
       "Number of children ever born    0\n",
       "Wife's religion                 0\n",
       "Wife's now working?             0\n",
       "Husband's occupation            0\n",
       "Standard-of-living index        0\n",
       "Media exposure                  0\n",
       "Contraceptive method used       0\n",
       "dtype: int64"
      ]
     },
     "execution_count": 15,
     "metadata": {},
     "output_type": "execute_result"
    }
   ],
   "source": [
    "from sklearn.impute import SimpleImputer\n",
    "\n",
    "simpleImputer = SimpleImputer(missing_values=np.nan, strategy='most_frequent')\n",
    "filled_with_mode = pd.DataFrame(simpleImputer.fit_transform(data_with_missing_inc), columns=cols_names)\n",
    "filled_with_mode[\"Contraceptive method used\"] = data_cmc[\"Contraceptive method used\"]\n",
    "filled_with_mode.isna().sum()"
   ]
  },
  {
   "attachments": {},
   "cell_type": "markdown",
   "metadata": {
    "datalore": {
     "hide_input_from_viewers": false,
     "hide_output_from_viewers": false,
     "node_id": "sh5lQxNU1Y7oh1baV2ligi",
     "type": "MD"
    }
   },
   "source": [
    "## Imputation avec le KNN"
   ]
  },
  {
   "cell_type": "code",
   "execution_count": 16,
   "metadata": {
    "datalore": {
     "hide_input_from_viewers": false,
     "hide_output_from_viewers": false,
     "node_id": "R3rbNfbuWQQdtdL777Ws7e",
     "type": "CODE"
    }
   },
   "outputs": [
    {
     "data": {
      "text/plain": [
       "0                            0\n",
       "1                            0\n",
       "2                            0\n",
       "3                            0\n",
       "4                            0\n",
       "5                            0\n",
       "6                            0\n",
       "7                            0\n",
       "8                            0\n",
       "Contraceptive method used    0\n",
       "dtype: int64"
      ]
     },
     "execution_count": 16,
     "metadata": {},
     "output_type": "execute_result"
    }
   ],
   "source": [
    "from sklearn.impute import KNNImputer\n",
    "\n",
    "knnImputer = KNNImputer()\n",
    "filled_with_knn = pd.DataFrame(knnImputer.fit_transform(data_with_missing_inc.drop(\"Contraceptive method used\", axis=1)))\n",
    "filled_with_knn[\"Contraceptive method used\"] = data_cmc[\"Contraceptive method used\"]\n",
    "filled_with_knn.isna().sum()"
   ]
  },
  {
   "attachments": {},
   "cell_type": "markdown",
   "metadata": {
    "datalore": {
     "hide_input_from_viewers": false,
     "hide_output_from_viewers": false,
     "node_id": "2sBk5heZTAvFBWe7f869if",
     "type": "MD"
    }
   },
   "source": [
    "## Comparaison"
   ]
  },
  {
   "cell_type": "code",
   "execution_count": 17,
   "metadata": {
    "datalore": {
     "hide_input_from_viewers": false,
     "hide_output_from_viewers": false,
     "node_id": "qp7ztV6VxNg3HJ4i9dhs3J",
     "type": "CODE"
    }
   },
   "outputs": [],
   "source": [
    "filled_data = {\"Deep learning\": filled_with_mlp, \"Mode\": filled_with_mode, \"KNN\": filled_with_knn}"
   ]
  },
  {
   "cell_type": "code",
   "execution_count": 18,
   "metadata": {
    "datalore": {
     "hide_input_from_viewers": false,
     "hide_output_from_viewers": false,
     "node_id": "LcvI0hMoGkeGsjoSaubXnt",
     "type": "CODE"
    }
   },
   "outputs": [
    {
     "name": "stdout",
     "output_type": "stream",
     "text": [
      "Deep learning\n",
      "Mode\n",
      "KNN\n"
     ]
    }
   ],
   "source": [
    "from sklearn.model_selection import train_test_split\n",
    "from sklearn.linear_model import LogisticRegression\n",
    "\n",
    "score = {}\n",
    "for name, data in filled_data.items():\n",
    "    print(name)\n",
    "    X, y = data.drop(\"Contraceptive method used\", axis=1).values, data[\"Contraceptive method used\"].values\n",
    "    X_train, X_test, y_train, y_test = train_test_split(X, y, test_size=0.2,\n",
    "                                                        random_state=11, stratify=y)\n",
    "    logreg = LogisticRegression(max_iter=500)\n",
    "    logreg.fit(X_train, y_train)\n",
    "    score[name] = logreg.score(X_test, y_test)"
   ]
  },
  {
   "cell_type": "code",
   "execution_count": 20,
   "metadata": {
    "datalore": {
     "hide_input_from_viewers": false,
     "hide_output_from_viewers": false,
     "node_id": "4ErNOnRB9Iy3ZKzLeAmqUV",
     "type": "CODE"
    }
   },
   "outputs": [
    {
     "data": {
      "text/plain": [
       "(0.0, 0.6)"
      ]
     },
     "execution_count": 20,
     "metadata": {},
     "output_type": "execute_result"
    },
    {
     "data": {
      "image/png": "[encoded data removed]",
      "text/plain": [
       "<Figure size 640x480 with 1 Axes>"
      ]
     },
     "metadata": {},
     "output_type": "display_data"
    }
   ],
   "source": [
    "import matplotlib.pyplot as plt\n",
    "\n",
    "labels = list(score.keys())\n",
    "val = list(score.values())\n",
    "plt.bar(x=labels, height=val)\n",
    "plt.ylim((0, 0.6))"
   ]
  },
  {
   "cell_type": "code",
   "execution_count": 21,
   "metadata": {
    "datalore": {
     "hide_input_from_viewers": false,
     "hide_output_from_viewers": false,
     "node_id": "56Pe32xSkH90knhKl7ReFd",
     "type": "CODE"
    }
   },
   "outputs": [
    {
     "data": {
      "text/plain": [
       "{'Deep learning': 0.5389830508474577,\n",
       " 'Mode': 0.5389830508474577,\n",
       " 'KNN': 0.5423728813559322}"
      ]
     },
     "execution_count": 21,
     "metadata": {},
     "output_type": "execute_result"
    }
   ],
   "source": [
    "score"
   ]
  },
  {
   "attachments": {},
   "cell_type": "markdown",
   "metadata": {
    "datalore": {
     "hide_input_from_viewers": false,
     "hide_output_from_viewers": false,
     "node_id": "fOGEvw2Q17KwuveptbuA3O",
     "type": "MD"
    }
   },
   "source": [
    "# Test avec différent type de valeur manquantes"
   ]
  },
  {
   "cell_type": "code",
   "execution_count": 22,
   "metadata": {
    "datalore": {
     "hide_input_from_viewers": false,
     "hide_output_from_viewers": false,
     "node_id": "361wF9bY2ARhDRSGGwq7eZ",
     "type": "CODE"
    }
   },
   "outputs": [
    {
     "name": "stdout",
     "output_type": "stream",
     "text": [
      "MAR\n"
     ]
    },
    {
     "name": "stderr",
     "output_type": "stream",
     "text": [
      "100%|██████████████████████████████████████████████████████████████████████████████████████████████████████████| 4/4 [00:37<00:00,  9.47s/it]\n",
      "1473it [00:02, 554.07it/s]\n"
     ]
    },
    {
     "name": "stdout",
     "output_type": "stream",
     "text": [
      "MCAR\n"
     ]
    },
    {
     "name": "stderr",
     "output_type": "stream",
     "text": [
      "100%|██████████████████████████████████████████████████████████████████████████████████████████████████████████| 9/9 [01:30<00:00, 10.00s/it]\n",
      "1473it [00:04, 308.85it/s]\n"
     ]
    },
    {
     "name": "stdout",
     "output_type": "stream",
     "text": [
      "NMAR\n"
     ]
    },
    {
     "name": "stderr",
     "output_type": "stream",
     "text": [
      "100%|██████████████████████████████████████████████████████████████████████████████████████████████████████████| 9/9 [01:26<00:00,  9.65s/it]\n",
      "1473it [00:05, 281.00it/s]\n"
     ]
    }
   ],
   "source": [
    "missing_types = {\"MAR\", \"NMAR\", \"MCAR\"}\n",
    "imputers = {\"IMLP\": IMLPImputer(), \"Simple Imputer\": SimpleImputer(missing_values=np.nan, strategy='most_frequent'),\n",
    "            \"KNN\": KNNImputer()}\n",
    "score = {}\n",
    "for missing_type in missing_types:\n",
    "    print(missing_type)\n",
    "    data_with_missing_inc = generate_missing(data_cmc.values, 0.006, mecha=missing_type)\n",
    "    integer_columns = [\"Wife's age\", \"Number of children ever born\"]\n",
    "    for column in integer_columns:\n",
    "        data_with_missing_inc[column] = data_cmc[column]\n",
    "    score_by_imputer = {}\n",
    "    for imputer in imputers:\n",
    "        filled_data = pd.DataFrame(imputers[imputer].fit_transform(data_with_missing_inc), columns=cols_names)\n",
    "        filled_data[\"Contraceptive method used\"] = data_cmc[\"Contraceptive method used\"]\n",
    "        X, y = filled_data.drop(\"Contraceptive method used\", axis=1).values, filled_data[\n",
    "            \"Contraceptive method used\"].values\n",
    "        X_train, X_test, y_train, y_test = train_test_split(X, y, test_size=0.2,\n",
    "                                                            random_state=11, stratify=y)\n",
    "        logreg = LogisticRegression(max_iter=500)\n",
    "        logreg.fit(X_train, y_train)\n",
    "        score_by_imputer[imputer] = logreg.score(X_test, y_test)\n",
    "    score[missing_type] = score_by_imputer"
   ]
  },
  {
   "cell_type": "code",
   "execution_count": 23,
   "metadata": {
    "datalore": {
     "hide_input_from_viewers": false,
     "hide_output_from_viewers": false,
     "node_id": "2B9oRIxMNyIK0J1z5x4ie4",
     "type": "CODE"
    }
   },
   "outputs": [
    {
     "data": {
      "text/html": [
       "<div>\n",
       "<style scoped>\n",
       "    .dataframe tbody tr th:only-of-type {\n",
       "        vertical-align: middle;\n",
       "    }\n",
       "\n",
       "    .dataframe tbody tr th {\n",
       "        vertical-align: top;\n",
       "    }\n",
       "\n",
       "    .dataframe thead th {\n",
       "        text-align: right;\n",
       "    }\n",
       "</style>\n",
       "<table border=\"1\" class=\"dataframe\">\n",
       "  <thead>\n",
       "    <tr style=\"text-align: right;\">\n",
       "      <th></th>\n",
       "      <th>IMLP</th>\n",
       "      <th>Simple Imputer</th>\n",
       "      <th>KNN</th>\n",
       "    </tr>\n",
       "  </thead>\n",
       "  <tbody>\n",
       "    <tr>\n",
       "      <th>MAR</th>\n",
       "      <td>0.542373</td>\n",
       "      <td>0.542373</td>\n",
       "      <td>0.545763</td>\n",
       "    </tr>\n",
       "    <tr>\n",
       "      <th>MCAR</th>\n",
       "      <td>0.538983</td>\n",
       "      <td>0.538983</td>\n",
       "      <td>0.538983</td>\n",
       "    </tr>\n",
       "    <tr>\n",
       "      <th>NMAR</th>\n",
       "      <td>0.532203</td>\n",
       "      <td>0.538983</td>\n",
       "      <td>0.538983</td>\n",
       "    </tr>\n",
       "  </tbody>\n",
       "</table>\n",
       "</div>"
      ],
      "text/plain": [
       "          IMLP  Simple Imputer       KNN\n",
       "MAR   0.542373        0.542373  0.545763\n",
       "MCAR  0.538983        0.538983  0.538983\n",
       "NMAR  0.532203        0.538983  0.538983"
      ]
     },
     "execution_count": 23,
     "metadata": {},
     "output_type": "execute_result"
    }
   ],
   "source": [
    "score = pd.DataFrame(score).T\n",
    "score"
   ]
  },
  {
   "cell_type": "code",
   "execution_count": 24,
   "metadata": {
    "datalore": {
     "hide_input_from_viewers": false,
     "hide_output_from_viewers": false,
     "node_id": "HcyvQxmevl6BHwIVeAa9MO",
     "type": "CODE"
    }
   },
   "outputs": [
    {
     "data": {
      "image/png": "[encoded data removed]",
      "text/plain": [
       "<Figure size 1850x1050 with 4 Axes>"
      ]
     },
     "metadata": {},
     "output_type": "display_data"
    }
   ],
   "source": [
    "import seaborn as sns\n",
    "fig, ax = plt.subplots(2, 2)\n",
    "fig.set_size_inches(18.5, 10.5, forward=True)\n",
    "for i, missing_type in enumerate(missing_types):\n",
    "    row = score.loc[missing_type]\n",
    "    sns.barplot(x=\"Imputer\", y=\"Score\", data=pd.DataFrame({\"Imputer\": list(row.index),\n",
    "                                                           \"Score\": list(row.values)}), ax=ax[i//2, i%2])\n",
    "    \n",
    "    ax[i//2, i%2].set_title(missing_type)\n",
    "    ax[i//2, i%2].set_yticks(list(np.linspace(0, 0.6, 20)))\n",
    "\n",
    "ax[1, 1].set_axis_off()"
   ]
  }
 ],
 "metadata": {
  "datalore": {
   "base_environment": "default",
   "computation_mode": "JUPYTER",
   "package_manager": "pip",
   "packages": [
    {
     "name": "pandas",
     "source": "PIP",
     "version": "1.5.0"
    }
   ],
   "version": 1
  },
  "kernelspec": {
   "display_name": "Python 3 (ipykernel)",
   "language": "python",
   "name": "python3"
  },
  "language_info": {
   "codemirror_mode": {
    "name": "ipython",
    "version": 3
   },
   "file_extension": ".py",
   "mimetype": "text/x-python",
   "name": "python",
   "nbconvert_exporter": "python",
   "pygments_lexer": "ipython3",
   "version": "3.10.7"
  },
  "vscode": {
   "interpreter": {
    "hash": "8698d23cc5e79dc1c2876948fdb9115a21625d83de199a044976a65ba3ba217f"
   }
  }
 },
 "nbformat": 4,
 "nbformat_minor": 4
}
