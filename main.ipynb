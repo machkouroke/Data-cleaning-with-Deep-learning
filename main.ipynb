{
 "cells":[
  {
   "cell_type":"markdown",
   "source":[
    "# Contenu\n",
    "\n",
    "- [Contenu](attachment:.\/#Contenu)\n",
    "- [Chargement des données](attachment:.\/#Chargement-des-données)\n",
    "  * [Description des données](attachment:.\/#Description-des-données)\n",
    "  * [Chargement](attachment:.\/#Chargement)\n",
    "- [Affectation de type correctes au données](attachment:.\/#Affectation-de-type-correctes-au-données)\n",
    "- [Génération des données manquantes](attachment:.\/#Génération-des-données-manquantes)\n",
    "- [Génération des types de données manquantes](attachment:.\/#Génération-des-types-de-données-manquantes)\n",
    "- [Construction des réseaux de neurones](attachment:.\/#Construction-des-réseaux-de-neurones)\n",
    "- [Comparaison des techniques d'imputation](attachment:.\/#Comparaison-des-techniques-d'imputation)\n",
    "  * [Imputation des données avec le réseau de neurone](attachment:.\/#Imputation-des-données-avec-le-réseau-de-neurone)\n",
    "  * [Imputation avec le mode](attachment:.\/#Imputation-avec-le-mode)\n",
    "  * [Imputation avec le KNN](attachment:.\/#Imputation-avec-le-KNN)\n",
    "  * [Comparaison](attachment:.\/#Comparaison)"
   ],
   "attachments":{
    
   },
   "metadata":{
    "datalore":{
     "node_id":"IxMrUIS92zdRcTHOils3uh",
     "type":"MD",
     "hide_input_from_viewers":false,
     "hide_output_from_viewers":false
    }
   }
  },
  {
   "cell_type":"markdown",
   "source":[
    "# Description et chargement des données\n",
    "## Description des données\n",
    "Cet ensemble de données est un sous-ensemble de l'enquête nationale de 1987 sur la prévalence de la contraception en Indonésie.  Les échantillons sont des femmes mariées qui n'étaient pas enceintes ou qui ne savent pas si elles l'étaient au moment de l'interview. Le problème est de prédire le choix de la méthode contraceptive actuelle (pas d'utilisation, méthodes à long terme ou méthodes à court terme) d'une femme  sur la base de ses caractéristiques démographiques et socio-économiques.\n",
    "\n",
    "Il est constitué de 1473 enrégistrement et contient les colonnes suivantes:\n",
    "\n",
    "   1. Wife's age                     (numerical)\n",
    "   2. Wife's education               (categorical)      1=low, 2, 3, 4=high\n",
    "   3. Husband's education            (categorical)      1=low, 2, 3, 4=high\n",
    "   4. Number of children ever born   (numerical)\n",
    "   5. Wife's religion                (binary)           0=Non-Islam, 1=Islam\n",
    "   6. Wife's now working?            (binary)           0=Yes, 1=No\n",
    "   7. Husband's occupation           (categorical)      1, 2, 3, 4\n",
    "   8. Standard-of-living index       (categorical)      1=low, 2, 3, 4=high\n",
    "   9. Media exposure                 (binary)           0=Good, 1=Not good\n",
    "   10. Contraceptive method used     (class attribute)  (1=No-use, 2=Long-term, 3=Short-term)"
   ],
   "attachments":{
    
   },
   "metadata":{
    "datalore":{
     "node_id":"FuQ8xeEwV0ARLefhVMb4pZ",
     "type":"MD",
     "hide_input_from_viewers":false,
     "hide_output_from_viewers":false
    }
   }
  },
  {
   "cell_type":"markdown",
   "source":[
    "## Chargement des données"
   ],
   "attachments":{
    
   },
   "metadata":{
    "datalore":{
     "node_id":"vn28lR2K1cf4DQ1OmzYWAw",
     "type":"MD",
     "hide_input_from_viewers":false,
     "hide_output_from_viewers":false
    }
   }
  },
  {
   "cell_type":"code",
   "source":[
    "cols_names = [\"Wife's age\",\n",
    "              \"Wife's education\",\n",
    "              \"Husband's education\",\n",
    "              \"Number of children ever born\",\n",
    "              \"Wife's religion\",\n",
    "              \"Wife's now working?\",\n",
    "              \"Husband's occupation\",\n",
    "              \"Standard-of-living index\",\n",
    "              \"Media exposure\",\n",
    "              \"Contraceptive method used\"]"
   ],
   "execution_count":1,
   "outputs":[
    
   ],
   "metadata":{
    "datalore":{
     "node_id":"fi1XB6s6QFoUlU7bDVhNQc",
     "type":"CODE",
     "hide_input_from_viewers":false,
     "hide_output_from_viewers":false
    }
   }
  },
  {
   "cell_type":"code",
   "source":[
    "import pandas as pd\n",
    "\n",
    "data_cmc: pd.DataFrame = pd.read_csv('cmc.csv', header=None, names=cols_names)\n",
    "data_cmc.head()"
   ],
   "execution_count":40,
   "outputs":[
    {
     "data":{
      "text\/html":[
       "<div>\n",
       "<style scoped>\n",
       "    .dataframe tbody tr th:only-of-type {\n",
       "        vertical-align: middle;\n",
       "    }\n",
       "\n",
       "    .dataframe tbody tr th {\n",
       "        vertical-align: top;\n",
       "    }\n",
       "\n",
       "    .dataframe thead th {\n",
       "        text-align: right;\n",
       "    }\n",
       "<\/style>\n",
       "<table border=\"1\" class=\"dataframe\">\n",
       "  <thead>\n",
       "    <tr style=\"text-align: right;\">\n",
       "      <th><\/th>\n",
       "      <th>Wife's age<\/th>\n",
       "      <th>Wife's education<\/th>\n",
       "      <th>Husband's education<\/th>\n",
       "      <th>Number of children ever born<\/th>\n",
       "      <th>Wife's religion<\/th>\n",
       "      <th>Wife's now working?<\/th>\n",
       "      <th>Husband's occupation<\/th>\n",
       "      <th>Standard-of-living index<\/th>\n",
       "      <th>Media exposure<\/th>\n",
       "      <th>Contraceptive method used<\/th>\n",
       "    <\/tr>\n",
       "  <\/thead>\n",
       "  <tbody>\n",
       "    <tr>\n",
       "      <th>0<\/th>\n",
       "      <td>24<\/td>\n",
       "      <td>2<\/td>\n",
       "      <td>3<\/td>\n",
       "      <td>3<\/td>\n",
       "      <td>1<\/td>\n",
       "      <td>1<\/td>\n",
       "      <td>2<\/td>\n",
       "      <td>3<\/td>\n",
       "      <td>0<\/td>\n",
       "      <td>1<\/td>\n",
       "    <\/tr>\n",
       "    <tr>\n",
       "      <th>1<\/th>\n",
       "      <td>45<\/td>\n",
       "      <td>1<\/td>\n",
       "      <td>3<\/td>\n",
       "      <td>10<\/td>\n",
       "      <td>1<\/td>\n",
       "      <td>1<\/td>\n",
       "      <td>3<\/td>\n",
       "      <td>4<\/td>\n",
       "      <td>0<\/td>\n",
       "      <td>1<\/td>\n",
       "    <\/tr>\n",
       "    <tr>\n",
       "      <th>2<\/th>\n",
       "      <td>43<\/td>\n",
       "      <td>2<\/td>\n",
       "      <td>3<\/td>\n",
       "      <td>7<\/td>\n",
       "      <td>1<\/td>\n",
       "      <td>1<\/td>\n",
       "      <td>3<\/td>\n",
       "      <td>4<\/td>\n",
       "      <td>0<\/td>\n",
       "      <td>1<\/td>\n",
       "    <\/tr>\n",
       "    <tr>\n",
       "      <th>3<\/th>\n",
       "      <td>42<\/td>\n",
       "      <td>3<\/td>\n",
       "      <td>2<\/td>\n",
       "      <td>9<\/td>\n",
       "      <td>1<\/td>\n",
       "      <td>1<\/td>\n",
       "      <td>3<\/td>\n",
       "      <td>3<\/td>\n",
       "      <td>0<\/td>\n",
       "      <td>1<\/td>\n",
       "    <\/tr>\n",
       "    <tr>\n",
       "      <th>4<\/th>\n",
       "      <td>36<\/td>\n",
       "      <td>3<\/td>\n",
       "      <td>3<\/td>\n",
       "      <td>8<\/td>\n",
       "      <td>1<\/td>\n",
       "      <td>1<\/td>\n",
       "      <td>3<\/td>\n",
       "      <td>2<\/td>\n",
       "      <td>0<\/td>\n",
       "      <td>1<\/td>\n",
       "    <\/tr>\n",
       "  <\/tbody>\n",
       "<\/table>\n",
       "<\/div>"
      ]
     },
     "metadata":{
      
     },
     "output_type":"display_data"
    }
   ],
   "metadata":{
    "datalore":{
     "node_id":"7F8JMtng05I08gwdhZC3Xe",
     "type":"CODE",
     "hide_input_from_viewers":false,
     "hide_output_from_viewers":false
    }
   }
  },
  {
   "cell_type":"markdown",
   "source":[
    "# Affectation de type correctes au données"
   ],
   "attachments":{
    
   },
   "metadata":{
    "datalore":{
     "node_id":"H4cemTIpAjzBjQQmbrXco5",
     "type":"MD",
     "hide_input_from_viewers":false,
     "hide_output_from_viewers":false
    }
   }
  },
  {
   "cell_type":"markdown",
   "source":[
    "Pour avoir un programme plus efficaces on vas convertir en type `category` les variables marqué comme catégorique"
   ],
   "attachments":{
    
   },
   "metadata":{
    "datalore":{
     "node_id":"XvDl5qALSz2d7l6O241YPR",
     "type":"MD",
     "hide_input_from_viewers":false,
     "hide_output_from_viewers":false
    }
   }
  },
  {
   "cell_type":"code",
   "source":[
    "data_cmc.dtypes"
   ],
   "execution_count":41,
   "outputs":[
    {
     "data":{
      "text\/html":[
       
      ]
     },
     "metadata":{
      
     },
     "output_type":"display_data"
    }
   ],
   "metadata":{
    "datalore":{
     "node_id":"WEeh2YRcvFR3ushVKHQABe",
     "type":"CODE",
     "hide_input_from_viewers":false,
     "hide_output_from_viewers":false
    }
   }
  },
  {
   "cell_type":"markdown",
   "source":[
    "La prédiction des réseaux de neurone commencent à **0** on vas mettre nos donné sur une échelle de **0 à n-1**  plutôt que **1 à n**"
   ],
   "attachments":{
    
   },
   "metadata":{
    "datalore":{
     "node_id":"P3xBP84YrMezVMt99m5aak",
     "type":"MD",
     "hide_input_from_viewers":false,
     "hide_output_from_viewers":false
    }
   }
  },
  {
   "cell_type":"code",
   "source":[
    "cols_to_scale = [\"Wife's education\",\n",
    "                 \"Husband's education\",\n",
    "                 \"Husband's occupation\",\n",
    "                 \"Standard-of-living index\",\n",
    "                 \"Contraceptive method used\"]\n",
    "data_cmc[cols_to_scale] = data_cmc[cols_to_scale].apply(lambda x: x - 1)"
   ],
   "execution_count":42,
   "outputs":[
    
   ],
   "metadata":{
    "datalore":{
     "node_id":"vjBI0w1iTzSGJBg4AalXuC",
     "type":"CODE",
     "hide_input_from_viewers":false,
     "hide_output_from_viewers":false
    }
   }
  },
  {
   "cell_type":"code",
   "source":[
    "print(\"Vérification des ranges des données\")\n",
    "for col in cols_to_scale:\n",
    "    print(f'{col}: {data_cmc[col].unique()}')"
   ],
   "execution_count":43,
   "outputs":[
    {
     "name":"stdout",
     "text":[
      "Vérification des ranges des données\n",
      "Wife's education: [1 0 2 3]\n",
      "Husband's education: [2 1 3 0]\n",
      "Husband's occupation: [1 2 0 3]\n",
      "Standard-of-living index: [2 3 1 0]\n",
      "Contraceptive method used: [0 1 2]\n"
     ],
     "output_type":"stream"
    }
   ],
   "metadata":{
    "datalore":{
     "node_id":"964vFwAAntzWYvB7fR7w8f",
     "type":"CODE",
     "hide_input_from_viewers":false,
     "hide_output_from_viewers":false
    }
   }
  },
  {
   "cell_type":"code",
   "source":[
    "categorical_data = [\"Wife's education\", \"Wife's religion\", \"Wife's now working?\", \"Media exposure\",\n",
    "                    \"Husband's education\", \"Husband's occupation\", \"Standard-of-living index\",\n",
    "                    \"Contraceptive method used\"]\n",
    "for column in categorical_data:\n",
    "    data_cmc[column] = data_cmc[column].astype('category')\n",
    "print(\"Vérification des types des données\")\n",
    "data_cmc.dtypes"
   ],
   "execution_count":44,
   "outputs":[
    {
     "name":"stdout",
     "text":[
      "Vérification des types des données\n"
     ],
     "output_type":"stream"
    },
    {
     "data":{
      "text\/html":[
       
      ]
     },
     "metadata":{
      
     },
     "output_type":"display_data"
    }
   ],
   "metadata":{
    "datalore":{
     "node_id":"EeqWs8WPFKAZsy0a4cXG2H",
     "type":"CODE",
     "hide_input_from_viewers":false,
     "hide_output_from_viewers":false
    }
   }
  },
  {
   "cell_type":"markdown",
   "source":[
    "# Génération des données manquantes\n",
    "Notre Datasets ne contient aucune donées manquantes. Toutefois dans le cadre de notre expérience, nous allons générer des données manquantes de tous types"
   ],
   "attachments":{
    
   },
   "metadata":{
    "datalore":{
     "node_id":"QQJBW8ZwmpUxZ6ok6NgbHP",
     "type":"MD",
     "hide_input_from_viewers":false,
     "hide_output_from_viewers":false
    }
   }
  },
  {
   "cell_type":"code",
   "source":[
    "print(\"Vérification du nombre de donnée manquante\")\n",
    "data_cmc.isna().sum()"
   ],
   "execution_count":45,
   "outputs":[
    {
     "name":"stdout",
     "text":[
      "Vérification du nombre de donnée manquante\n"
     ],
     "output_type":"stream"
    },
    {
     "data":{
      "text\/html":[
       
      ]
     },
     "metadata":{
      
     },
     "output_type":"display_data"
    }
   ],
   "metadata":{
    "datalore":{
     "node_id":"eqN8zbiD3HYb9wRG9yxHp9",
     "type":"CODE",
     "hide_input_from_viewers":false,
     "hide_output_from_viewers":false
    }
   }
  },
  {
   "cell_type":"markdown",
   "source":[
    "# Génération des types de données manquantes"
   ],
   "attachments":{
    
   },
   "metadata":{
    "datalore":{
     "node_id":"YPE0QUpn6g0PBPX73pt8Z6",
     "type":"MD",
     "hide_input_from_viewers":false,
     "hide_output_from_viewers":false
    }
   }
  },
  {
   "cell_type":"code",
   "source":[
    "from utils import NaProducter\n",
    "\n",
    "\n",
    "def generate_missing(init_data, p_miss, seed_value=2022, mecha=\"MCAR\", p_obs=0.6):\n",
    "    generator = NaProducter(seed_value=seed_value)\n",
    "    data_with_missing = generator.produce_NA(init_data, p_miss, mecha=mecha, p_obs=p_obs)\n",
    "    return pd.DataFrame(data_with_missing['X_incomp'].numpy(), columns=cols_names)\n",
    "\n",
    "\n",
    "data_with_missing_inc = generate_missing(data_cmc.values, 0.006)\n",
    "data_with_missing_inc.isna().sum()"
   ],
   "execution_count":46,
   "outputs":[
    {
     "data":{
      "text\/html":[
       
      ]
     },
     "metadata":{
      
     },
     "output_type":"display_data"
    }
   ],
   "metadata":{
    "datalore":{
     "node_id":"mPKNWtm0Xmb1mI9NroNvbm",
     "type":"CODE",
     "hide_input_from_viewers":false,
     "hide_output_from_viewers":false
    }
   }
  },
  {
   "cell_type":"markdown",
   "source":[
    "Vu que notre étude cherche à prédire les valeurs manquantes discrètes finis, nous allons décanter les colonnes avec des valeurs manquantes inifinis qui peuvent en effet être considéré comme continue."
   ],
   "attachments":{
    
   },
   "metadata":{
    "datalore":{
     "node_id":"Pi0kq4sRzErWuyYriuwpYo",
     "type":"MD",
     "hide_input_from_viewers":false,
     "hide_output_from_viewers":false
    }
   }
  },
  {
   "cell_type":"code",
   "source":[
    "integer_columns = [\"Wife's age\", \"Number of children ever born\"]\n",
    "for column in integer_columns:\n",
    "    data_with_missing_inc[column] = data_cmc[column]\n",
    "data_with_missing_inc.isna().sum()"
   ],
   "execution_count":47,
   "outputs":[
    {
     "data":{
      "text\/html":[
       
      ]
     },
     "metadata":{
      
     },
     "output_type":"display_data"
    }
   ],
   "metadata":{
    "datalore":{
     "node_id":"4BTvIiO3VRNHTLarktOIKB",
     "type":"CODE",
     "hide_input_from_viewers":false,
     "hide_output_from_viewers":false
    }
   }
  },
  {
   "cell_type":"markdown",
   "source":[
    "# Construction de l'imputeur\n",
    "## Description des fonctions\n",
    "\n",
    "- `missing_type_detector(row) -> tuple`: Cette fonction prend une ligne donnée puis retourne un tuple contenant les indices des colonnes de la ligne ou les valeurs sont manquantes\n",
    "  \n",
    "- `missing_type_init(self)`: Cette méthode calcule tout les types manquants de la donnée entré. Elle se sert de la méthode précédente\n",
    "  \n",
    "- `model_init(num_features: int, num_classes: int) -> Sequential`: Crée un perceptron multicouche avec `num_features` neurone sur la première couche et `num_classes` sur la dernière couche\n",
    "\n",
    "- `fit_missing_type(self, missing_type: tuple) -> dict` : Retourne pour un type de donnée manquant un ensemble de réseaux de neurone ayant en sortie l'une des colonnes manquantes\n",
    "\n",
    "- `fit_all_missing_type(self)` : Pour tout les types manquants entraine un perceptron multicouche puis le sauvegarde dans les modèles de la classes"
   ],
   "attachments":{
    
   },
   "metadata":{
    "datalore":{
     "node_id":"I2bAwrF3N5WHqaowuqtd2T",
     "type":"MD",
     "hide_input_from_viewers":false,
     "hide_output_from_viewers":false
    }
   }
  },
  {
   "cell_type":"code",
   "source":[
    "from tqdm import tqdm\n",
    "import tensorflow as tf\n",
    "from tensorflow.keras.models import Sequential\n",
    "from tensorflow.keras.layers import Dense\n",
    "from tensorflow.keras.optimizers import SGD\n",
    "import numpy as np\n",
    "\n",
    "\n",
    "class IMLPImputer:\n",
    "    def __init__(self):\n",
    "        self.models: dict = {}\n",
    "        self.missing_types: dict = {}\n",
    "        self.X: pd.DataFrame = pd.DataFrame()\n",
    "\n",
    "    def transform(self, datasets: pd.DataFrame):\n",
    "        data_filled: pd.DataFrame = datasets.copy(deep=True)\n",
    "        for line, row in tqdm(data_filled.iterrows()):\n",
    "            mtype = self.missing_type_detector(row)\n",
    "            if mtype:\n",
    "                model = self.models[mtype]\n",
    "                pred = self.predict_missing(mtype, line, model)\n",
    "                for col, value in pred.items():\n",
    "                    data_filled.iloc[line, col] = value\n",
    "        return data_filled\n",
    "\n",
    "    def fit_transform(self, datasets: pd.DataFrame):\n",
    "        self.fit(datasets)\n",
    "        return self.transform(datasets)\n",
    "\n",
    "    def fit_all_missing_type(self):\n",
    "        for key in tqdm(self.missing_types_permuted):\n",
    "            self.models[key] = self.fit_missing_type(key)\n",
    "\n",
    "    def fit(self, datasets: pd.DataFrame):\n",
    "        self.X = datasets.copy(deep=True)\n",
    "        self.missing_type_init()\n",
    "        self.fit_all_missing_type()\n",
    "\n",
    "    @staticmethod\n",
    "    def model_init(num_features: int, num_classes: int) -> Sequential:\n",
    "        model = Sequential([\n",
    "\n",
    "            # dense layer 1\n",
    "            Dense(32, input_shape=(num_features,), activation='relu'),\n",
    "\n",
    "            # dense layer 2\n",
    "            Dense(32, activation='relu'),\n",
    "\n",
    "            Dense(32, activation='relu'),\n",
    "\n",
    "            # output layer\n",
    "            Dense(num_classes, activation='softmax'),\n",
    "        ])\n",
    "        sgd = SGD(momentum=0.9, learning_rate=0.001)\n",
    "        model.compile(optimizer=sgd, loss=tf.keras.losses.SparseCategoricalCrossentropy(\n",
    "            from_logits=False,\n",
    "            reduction=\"auto\",\n",
    "            name=\"sparse_categorical_crossentropy\",\n",
    "        ))\n",
    "        return model\n",
    "\n",
    "    @property\n",
    "    def d_comp(self):\n",
    "        return self.X[~self.X.isna().any(axis=1)]\n",
    "\n",
    "    @property\n",
    "    def d_miss(self):\n",
    "        return self.X[self.X.isna().any(axis=1)]\n",
    "\n",
    "    @property\n",
    "    def missing_types_permuted(self):\n",
    "        return {value: key for key, value in self.missing_types.items()}\n",
    "\n",
    "    def fit_missing_type(self, missing_type: tuple) -> dict:\n",
    "        missing_type = list(missing_type)\n",
    "        model = {}\n",
    "        X_train, y_train = self.d_comp.drop(self.d_comp.columns[missing_type], axis=1).values, self.d_comp.values[:,\n",
    "                                                                                               missing_type]\n",
    "        for i in range(len(missing_type)):\n",
    "            model[missing_type[i]] = self.model_init(num_features=X_train.shape[\n",
    "                1], num_classes=len(np.unique(y_train[:,\n",
    "                                              i])))\n",
    "            model[missing_type[i]].fit(X_train, y_train[:, i], epochs=1000, batch_size=256, verbose=0)\n",
    "        return model\n",
    "\n",
    "    # noinspection PyPep8Naming\n",
    "    def predict_missing(self, missing_type: tuple, line: int, models: dict):\n",
    "        missing_type = list(missing_type)\n",
    "        X_test = self.d_miss.drop(self.d_comp.columns[missing_type], axis=1).loc[line, :].values.reshape(1, -1)\n",
    "        prediction = {}\n",
    "        for col, model in models.items():\n",
    "            prediction[col] = np.argmax(model.predict(X_test, verbose=0), axis=1)\n",
    "        return {key: value[0] for key, value in prediction.items()}\n",
    "\n",
    "    @staticmethod\n",
    "    def missing_type_detector(row) -> tuple:\n",
    "        return tuple(np.where(np.isnan(row), 1, 0).nonzero()[0])\n",
    "\n",
    "    def missing_type_init(self):\n",
    "        for index, rows in self.d_miss.iterrows():\n",
    "            if (mt := self.missing_type_detector(rows.values)) not in self.missing_types.values():\n",
    "                self.missing_types[f'mt{index}'] = mt\n",
    "        "
   ],
   "execution_count":48,
   "outputs":[
    
   ],
   "metadata":{
    "datalore":{
     "node_id":"UXCkC4fCN5sKSloqdZERxX",
     "type":"CODE",
     "hide_input_from_viewers":false,
     "hide_output_from_viewers":false
    }
   }
  },
  {
   "cell_type":"markdown",
   "source":[
    "# Comparaison des techniques d'imputation\n",
    "## Imputation des données avec le réseau de neurone"
   ],
   "attachments":{
    
   },
   "metadata":{
    "datalore":{
     "node_id":"CrjGD8KpZ2O6eyYqrzajVP",
     "type":"MD",
     "hide_input_from_viewers":false,
     "hide_output_from_viewers":false
    }
   }
  },
  {
   "cell_type":"code",
   "source":[
    "imlpImputer = IMLPImputer()\n",
    "filled_with_mlp = imlpImputer.fit_transform(data_with_missing_inc)\n",
    "filled_with_mlp[\"Contraceptive method used\"] = data_cmc[\"Contraceptive method used\"]\n",
    "filled_with_mlp.isna().sum()"
   ],
   "execution_count":49,
   "outputs":[
    {
     "name":"stderr",
     "text":[
      "\r  0%|          | 0\/9 [00:00<?, ?it\/s]\r 11%|█         | 1\/9 [00:08<01:05,  8.18s\/it]\r 22%|██▏       | 2\/9 [00:16<00:58,  8.36s\/it]\r 33%|███▎      | 3\/9 [00:24<00:49,  8.25s\/it]\r 44%|████▍     | 4\/9 [00:32<00:40,  8.13s\/it]\r 56%|█████▌    | 5\/9 [00:43<00:36,  9.03s\/it]\r 67%|██████▋   | 6\/9 [00:51<00:25,  8.62s\/it]\r 78%|███████▊  | 7\/9 [01:01<00:18,  9.27s\/it]\r 89%|████████▉ | 8\/9 [01:12<00:09,  9.70s\/it]\r100%|██████████| 9\/9 [01:28<00:00, 11.69s\/it]\r100%|██████████| 9\/9 [01:28<00:00,  9.83s\/it]\n",
      "\r0it [00:00, ?it\/s]\r3it [00:00, 30.00it\/s]\r21it [00:00, 67.40it\/s]\r31it [00:00, 75.41it\/s]\r80it [00:00, 161.63it\/s]\r127it [00:00, 239.53it\/s]\r179it [00:00, 273.93it\/s]\r208it [00:01, 230.74it\/s]\r233it [00:01, 204.82it\/s]\r262it [00:01, 199.51it\/s]\r283it [00:01, 188.98it\/s]\r322it [00:01, 224.01it\/s]\r400it [00:01, 328.34it\/s]\r434it [00:02, 189.17it\/s]\r488it [00:02, 237.80it\/s]\r520it [00:02, 224.41it\/s]\r548it [00:02, 226.16it\/s]\r610it [00:02, 277.14it\/s]\r671it [00:02, 346.82it\/s]\r711it [00:02, 328.81it\/s]\r748it [00:03, 329.10it\/s]\r784it [00:03, 316.77it\/s]\r818it [00:03, 313.90it\/s]\r861it [00:03, 334.82it\/s]\r969it [00:03, 493.58it\/s]\r1019it [00:03, 333.61it\/s]\r1059it [00:03, 341.12it\/s]\r1098it [00:04, 276.56it\/s]\r1131it [00:04, 276.13it\/s]\r1172it [00:04, 293.91it\/s]\r1209it [00:04, 297.12it\/s]\r1241it [00:04, 294.67it\/s]\r1272it [00:04, 234.66it\/s]\r1329it [00:04, 297.73it\/s]\r1363it [00:05, 295.81it\/s]\r1395it [00:05, 293.12it\/s]\r1426it [00:05, 283.06it\/s]\r1473it [00:05, 272.71it\/s]\n"
     ],
     "output_type":"stream"
    },
    {
     "data":{
      "text\/html":[
       
      ]
     },
     "metadata":{
      
     },
     "output_type":"display_data"
    }
   ],
   "metadata":{
    "datalore":{
     "node_id":"FozSd9zGyNEkPELjzP3TZb",
     "type":"CODE",
     "hide_input_from_viewers":false,
     "hide_output_from_viewers":false
    }
   }
  },
  {
   "cell_type":"markdown",
   "source":[
    "Pour les deux méthodes de comparaisons on vas utiliser les implémentations scikit-learn\n",
    "\n",
    "## Imputation avec le mode"
   ],
   "attachments":{
    
   },
   "metadata":{
    "datalore":{
     "node_id":"Lo3fqVYWrVBf4GhlhU02nw",
     "type":"MD",
     "hide_input_from_viewers":false,
     "hide_output_from_viewers":false
    }
   }
  },
  {
   "cell_type":"code",
   "source":[
    "from sklearn.impute import SimpleImputer\n",
    "\n",
    "simpleImputer = SimpleImputer(missing_values=np.nan, strategy='most_frequent')\n",
    "filled_with_mode = pd.DataFrame(simpleImputer.fit_transform(data_with_missing_inc), columns=cols_names)\n",
    "filled_with_mode[\"Contraceptive method used\"] = data_cmc[\"Contraceptive method used\"]\n",
    "filled_with_mode.isna().sum()"
   ],
   "execution_count":50,
   "outputs":[
    {
     "data":{
      "text\/html":[
       
      ]
     },
     "metadata":{
      
     },
     "output_type":"display_data"
    }
   ],
   "metadata":{
    "datalore":{
     "node_id":"JFQEJjRz0lCd26byGWlf9R",
     "type":"CODE",
     "hide_input_from_viewers":false,
     "hide_output_from_viewers":false
    }
   }
  },
  {
   "cell_type":"markdown",
   "source":[
    "## Imputation avec le KNN"
   ],
   "attachments":{
    
   },
   "metadata":{
    "datalore":{
     "node_id":"sh5lQxNU1Y7oh1baV2ligi",
     "type":"MD",
     "hide_input_from_viewers":false,
     "hide_output_from_viewers":false
    }
   }
  },
  {
   "cell_type":"code",
   "source":[
    "from sklearn.impute import KNNImputer\n",
    "\n",
    "knnImputer = KNNImputer()\n",
    "filled_with_knn = pd.DataFrame(knnImputer.fit_transform(data_with_missing_inc.drop(\"Contraceptive method used\", axis=1)))\n",
    "filled_with_knn[\"Contraceptive method used\"] = data_cmc[\"Contraceptive method used\"]\n",
    "filled_with_knn.isna().sum()"
   ],
   "execution_count":51,
   "outputs":[
    {
     "data":{
      "text\/html":[
       
      ]
     },
     "metadata":{
      
     },
     "output_type":"display_data"
    }
   ],
   "metadata":{
    "datalore":{
     "node_id":"R3rbNfbuWQQdtdL777Ws7e",
     "type":"CODE",
     "hide_input_from_viewers":false,
     "hide_output_from_viewers":false
    }
   }
  },
  {
   "cell_type":"markdown",
   "source":[
    "## Comparaison"
   ],
   "attachments":{
    
   },
   "metadata":{
    "datalore":{
     "node_id":"2sBk5heZTAvFBWe7f869if",
     "type":"MD",
     "hide_input_from_viewers":false,
     "hide_output_from_viewers":false
    }
   }
  },
  {
   "cell_type":"code",
   "source":[
    "filled_data = {\"Deep learning\": filled_with_mlp, \"Mode\": filled_with_mode, \"KNN\": filled_with_knn}"
   ],
   "execution_count":52,
   "outputs":[
    
   ],
   "metadata":{
    "datalore":{
     "node_id":"qp7ztV6VxNg3HJ4i9dhs3J",
     "type":"CODE",
     "hide_input_from_viewers":false,
     "hide_output_from_viewers":false
    }
   }
  },
  {
   "cell_type":"code",
   "source":[
    "from sklearn.model_selection import train_test_split\n",
    "from sklearn.linear_model import LogisticRegression\n",
    "\n",
    "score = {}\n",
    "for name, data in filled_data.items():\n",
    "    print(name)\n",
    "    X, y = data.drop(\"Contraceptive method used\", axis=1).values, data[\"Contraceptive method used\"].values\n",
    "    X_train, X_test, y_train, y_test = train_test_split(X, y, test_size=0.2,\n",
    "                                                        random_state=11, stratify=y)\n",
    "    logreg = LogisticRegression(max_iter=500)\n",
    "    logreg.fit(X_train, y_train)\n",
    "    score[name] = logreg.score(X_test, y_test)"
   ],
   "execution_count":53,
   "outputs":[
    {
     "name":"stdout",
     "text":[
      "Deep learning\n",
      "Mode\n",
      "KNN\n"
     ],
     "output_type":"stream"
    }
   ],
   "metadata":{
    "datalore":{
     "node_id":"LcvI0hMoGkeGsjoSaubXnt",
     "type":"CODE",
     "hide_input_from_viewers":false,
     "hide_output_from_viewers":false
    }
   }
  },
  {
   "cell_type":"code",
   "source":[
    "import matplotlib.pyplot as plt\n",
    "\n",
    "labels = list(score.keys())\n",
    "val = list(score.values())\n",
    "plt.bar(x=labels, height=val)\n",
    "plt.ylim((0, 0.6))"
   ],
   "execution_count":54,
   "outputs":[
    {
     "data":{
      "text\/plain":[
       "(0.0, 0.6)"
      ]
     },
     "metadata":{
      
     },
     "output_type":"display_data"
    },
    {
     "data":{
      "image\/png":"[encoded data removed]"
     },
     "metadata":{
      "image\/png":{
       
      }
     },
     "output_type":"display_data"
    }
   ],
   "metadata":{
    "datalore":{
     "node_id":"4ErNOnRB9Iy3ZKzLeAmqUV",
     "type":"CODE",
     "hide_input_from_viewers":false,
     "hide_output_from_viewers":false
    }
   }
  },
  {
   "cell_type":"code",
   "source":[
    "score"
   ],
   "execution_count":55,
   "outputs":[
    {
     "data":{
      "text\/plain":[
       "{'Deep learning': 0.5389830508474577,\n",
       " 'Mode': 0.5389830508474577,\n",
       " 'KNN': 0.5423728813559322}"
      ]
     },
     "metadata":{
      
     },
     "output_type":"display_data"
    }
   ],
   "metadata":{
    "datalore":{
     "node_id":"56Pe32xSkH90knhKl7ReFd",
     "type":"CODE",
     "hide_input_from_viewers":false,
     "hide_output_from_viewers":false
    }
   }
  },
  {
   "cell_type":"markdown",
   "source":[
    "# Test avec différent type de valeur manquantes"
   ],
   "attachments":{
    
   },
   "metadata":{
    "datalore":{
     "node_id":"fOGEvw2Q17KwuveptbuA3O",
     "type":"MD",
     "hide_input_from_viewers":false,
     "hide_output_from_viewers":false
    }
   }
  },
  {
   "cell_type":"code",
   "source":[
    "missing_types = {\"MAR\", \"NMAR\", \"MCAR\"}\n",
    "imputers = {\"IMLP\": IMLPImputer(), \"Simple Imputer\": SimpleImputer(missing_values=np.nan, strategy='most_frequent'),\n",
    "            \"KNN\": KNNImputer()}\n",
    "score = {}\n",
    "for missing_type in missing_types:\n",
    "    print(missing_type)\n",
    "    data_with_missing_inc = generate_missing(data_cmc.values, 0.006, mecha=missing_type)\n",
    "    integer_columns = [\"Wife's age\", \"Number of children ever born\"]\n",
    "    for column in integer_columns:\n",
    "        data_with_missing_inc[column] = data_cmc[column]\n",
    "    score_by_imputer = {}\n",
    "    for imputer in imputers:\n",
    "        filled_data = pd.DataFrame(imputers[imputer].fit_transform(data_with_missing_inc), columns=cols_names)\n",
    "        filled_data[\"Contraceptive method used\"] = data_cmc[\"Contraceptive method used\"]\n",
    "        X, y = filled_data.drop(\"Contraceptive method used\", axis=1).values, filled_data[\n",
    "            \"Contraceptive method used\"].values\n",
    "        X_train, X_test, y_train, y_test = train_test_split(X, y, test_size=0.2,\n",
    "                                                            random_state=11, stratify=y)\n",
    "        logreg = LogisticRegression(max_iter=500)\n",
    "        logreg.fit(X_train, y_train)\n",
    "        score_by_imputer[imputer] = logreg.score(X_test, y_test)\n",
    "    score[missing_type] = score_by_imputer"
   ],
   "execution_count":61,
   "outputs":[
    {
     "name":"stdout",
     "text":[
      "MAR\n",
      "NMAR\n",
      "MCAR\n"
     ],
     "output_type":"stream"
    },
    {
     "name":"stderr",
     "text":[
      "\r  0%|          | 0\/4 [00:00<?, ?it\/s]\r 25%|██▌       | 1\/4 [00:10<00:31, 10.61s\/it]\r 50%|█████     | 2\/4 [00:19<00:18,  9.33s\/it]\r 75%|███████▌  | 3\/4 [00:29<00:09,  9.93s\/it]\r100%|██████████| 4\/4 [00:40<00:00, 10.21s\/it]\r100%|██████████| 4\/4 [00:40<00:00, 10.08s\/it]\n",
      "\r0it [00:00, ?it\/s]\r47it [00:00, 466.21it\/s]\r94it [00:00, 227.28it\/s]\r244it [00:00, 487.12it\/s]\r379it [00:00, 661.78it\/s]\r455it [00:00, 662.97it\/s]\r528it [00:01, 527.41it\/s]\r689it [00:01, 719.70it\/s]\r804it [00:01, 781.21it\/s]\r914it [00:01, 799.25it\/s]\r1000it [00:01, 785.95it\/s]\r1082it [00:01, 685.74it\/s]\r1155it [00:01, 646.08it\/s]\r1232it [00:01, 644.96it\/s]\r1301it [00:02, 636.67it\/s]\r1366it [00:02, 560.76it\/s]\r1435it [00:02, 561.97it\/s]\r1473it [00:02, 633.80it\/s]\n",
      "\r  0%|          | 0\/9 [00:00<?, ?it\/s]\r 11%|█         | 1\/9 [00:07<01:02,  7.86s\/it]\r 22%|██▏       | 2\/9 [00:15<00:55,  7.96s\/it]\r 33%|███▎      | 3\/9 [00:23<00:47,  7.97s\/it]\r 44%|████▍     | 4\/9 [00:32<00:40,  8.07s\/it]\r 56%|█████▌    | 5\/9 [00:42<00:35,  9.00s\/it]\r 67%|██████▋   | 6\/9 [00:53<00:28,  9.55s\/it]\r 78%|███████▊  | 7\/9 [01:04<00:19,  9.91s\/it]\r 89%|████████▉ | 8\/9 [01:12<00:09,  9.36s\/it]\r100%|██████████| 9\/9 [01:33<00:00, 13.08s\/it]\r100%|██████████| 9\/9 [01:33<00:00, 10.38s\/it]\n",
      "\r0it [00:00, ?it\/s]\r3it [00:00, 25.89it\/s]\r21it [00:00, 88.59it\/s]\r51it [00:00, 144.58it\/s]\r96it [00:00, 242.00it\/s]\r127it [00:00, 260.85it\/s]\r179it [00:00, 282.64it\/s]\r208it [00:00, 250.66it\/s]\r239it [00:01, 265.53it\/s]\r276it [00:01, 263.48it\/s]\r314it [00:01, 288.31it\/s]\r384it [00:01, 382.32it\/s]\r424it [00:02, 140.02it\/s]\r453it [00:02, 145.60it\/s]\r493it [00:02, 173.65it\/s]\r521it [00:02, 182.83it\/s]\r547it [00:02, 188.08it\/s]\r610it [00:02, 267.13it\/s]\r690it [00:02, 356.46it\/s]\r732it [00:03, 358.77it\/s]\r773it [00:03, 359.33it\/s]\r812it [00:03, 314.25it\/s]\r861it [00:03, 344.68it\/s]\r969it [00:03, 492.46it\/s]\r1021it [00:03, 387.48it\/s]\r1065it [00:03, 374.90it\/s]\r1106it [00:04, 308.77it\/s]\r1141it [00:04, 306.33it\/s]\r1174it [00:04, 305.54it\/s]\r1209it [00:04, 310.11it\/s]\r1242it [00:04, 309.28it\/s]\r1274it [00:04, 234.30it\/s]\r1329it [00:04, 296.53it\/s]\r1363it [00:05, 303.35it\/s]\r1397it [00:05, 300.64it\/s]\r1430it [00:05, 303.12it\/s]\r1473it [00:05, 277.42it\/s]\n",
      "\r  0%|          | 0\/9 [00:00<?, ?it\/s]\r 11%|█         | 1\/9 [00:08<01:04,  8.07s\/it]\r 22%|██▏       | 2\/9 [00:18<01:07,  9.58s\/it]\r 33%|███▎      | 3\/9 [00:26<00:52,  8.81s\/it]\r 44%|████▍     | 4\/9 [00:37<00:47,  9.53s\/it]\r 56%|█████▌    | 5\/9 [00:46<00:37,  9.27s\/it]\r 67%|██████▋   | 6\/9 [00:54<00:26,  8.90s\/it]\r 78%|███████▊  | 7\/9 [01:04<00:18,  9.46s\/it]\r 89%|████████▉ | 8\/9 [01:15<00:09,  9.83s\/it]\r100%|██████████| 9\/9 [01:31<00:00, 11.71s\/it]\r100%|██████████| 9\/9 [01:31<00:00, 10.15s\/it]\n",
      "\r0it [00:00, ?it\/s]\r19it [00:00, 139.43it\/s]\r33it [00:00, 99.87it\/s] \r80it [00:00, 197.52it\/s]\r137it [00:00, 308.81it\/s]\r179it [00:00, 289.48it\/s]\r211it [00:00, 260.15it\/s]\r262it [00:01, 256.73it\/s]\r296it [00:01, 274.99it\/s]\r326it [00:01, 274.33it\/s]\r400it [00:01, 380.65it\/s]\r441it [00:01, 213.01it\/s]\r493it [00:01, 254.02it\/s]\r528it [00:02, 261.27it\/s]\r561it [00:02, 268.85it\/s]\r610it [00:02, 296.70it\/s]\r690it [00:02, 399.75it\/s]\r735it [00:02, 405.39it\/s]\r779it [00:02, 397.87it\/s]\r822it [00:02, 355.02it\/s]\r861it [00:02, 342.85it\/s]\r969it [00:03, 488.27it\/s]\r1019it [00:03, 386.03it\/s]\r1062it [00:03, 387.96it\/s]\r1104it [00:03, 294.84it\/s]\r1139it [00:03, 297.64it\/s]\r1173it [00:03, 299.84it\/s]\r1209it [00:03, 305.82it\/s]\r1242it [00:04, 309.52it\/s]\r1275it [00:04, 251.07it\/s]\r1329it [00:04, 303.16it\/s]\r1362it [00:04, 305.04it\/s]\r1395it [00:04, 305.21it\/s]\r1427it [00:04, 303.82it\/s]\r1473it [00:04, 309.80it\/s]\n"
     ],
     "output_type":"stream"
    }
   ],
   "metadata":{
    "datalore":{
     "node_id":"361wF9bY2ARhDRSGGwq7eZ",
     "type":"CODE",
     "hide_input_from_viewers":false,
     "hide_output_from_viewers":false
    }
   }
  },
  {
   "cell_type":"code",
   "source":[
    "score = pd.DataFrame(score).T\n",
    "score"
   ],
   "execution_count":101,
   "outputs":[
    {
     "data":{
      "text\/html":[
       "<div>\n",
       "<style scoped>\n",
       "    .dataframe tbody tr th:only-of-type {\n",
       "        vertical-align: middle;\n",
       "    }\n",
       "\n",
       "    .dataframe tbody tr th {\n",
       "        vertical-align: top;\n",
       "    }\n",
       "\n",
       "    .dataframe thead th {\n",
       "        text-align: right;\n",
       "    }\n",
       "<\/style>\n",
       "<table border=\"1\" class=\"dataframe\">\n",
       "  <thead>\n",
       "    <tr style=\"text-align: right;\">\n",
       "      <th><\/th>\n",
       "      <th>IMLP<\/th>\n",
       "      <th>Simple Imputer<\/th>\n",
       "      <th>KNN<\/th>\n",
       "    <\/tr>\n",
       "  <\/thead>\n",
       "  <tbody>\n",
       "    <tr>\n",
       "      <th>MAR<\/th>\n",
       "      <td>0.542373<\/td>\n",
       "      <td>0.542373<\/td>\n",
       "      <td>0.545763<\/td>\n",
       "    <\/tr>\n",
       "    <tr>\n",
       "      <th>NMAR<\/th>\n",
       "      <td>0.538983<\/td>\n",
       "      <td>0.538983<\/td>\n",
       "      <td>0.538983<\/td>\n",
       "    <\/tr>\n",
       "    <tr>\n",
       "      <th>MCAR<\/th>\n",
       "      <td>0.535593<\/td>\n",
       "      <td>0.538983<\/td>\n",
       "      <td>0.538983<\/td>\n",
       "    <\/tr>\n",
       "  <\/tbody>\n",
       "<\/table>\n",
       "<\/div>"
      ]
     },
     "metadata":{
      
     },
     "output_type":"display_data"
    }
   ],
   "metadata":{
    "datalore":{
     "node_id":"2B9oRIxMNyIK0J1z5x4ie4",
     "type":"CODE",
     "hide_input_from_viewers":false,
     "hide_output_from_viewers":false
    }
   }
  },
  {
   "cell_type":"code",
   "source":[
    "import seaborn as sns\n",
    "fig, ax = plt.subplots(2, 2)\n",
    "fig.set_size_inches(18.5, 10.5, forward=True)\n",
    "for i, missing_type in enumerate(missing_types):\n",
    "    row = score.loc[missing_type]\n",
    "    sns.barplot(x=\"Imputer\", y=\"Score\", data=pd.DataFrame({\"Imputer\": list(row.index),\n",
    "                                                           \"Score\": list(row.values)}), ax=ax[i\/\/2, i%2])\n",
    "    \n",
    "    ax[i\/\/2, i%2].set_title(missing_type)\n",
    "    ax[i\/\/2, i%2].set_yticks(list(np.linspace(0, 0.6, 20)))\n",
    "\n",
    "ax[1, 1].set_axis_off()"
   ],
   "execution_count":102,
   "outputs":[
    {
     "data":{
      "image\/png":"[encoded data removed]"
     },
     "metadata":{
      "image\/png":{
       
      }
     },
     "output_type":"display_data"
    }
   ],
   "metadata":{
    "datalore":{
     "node_id":"HcyvQxmevl6BHwIVeAa9MO",
     "type":"CODE",
     "hide_input_from_viewers":false,
     "hide_output_from_viewers":false
    }
   }
  },
  {
   "cell_type":"code",
   "source":[
    
   ],
   "execution_count":null,
   "outputs":[
    
   ],
   "metadata":{
    "datalore":{
     "node_id":"FkdUuTggXPoUaYsya89C6R",
     "type":"CODE",
     "hide_input_from_viewers":false,
     "hide_output_from_viewers":false
    }
   }
  }
 ],
 "metadata":{
  "kernelspec":{
   "display_name":"Python",
   "language":"python",
   "name":"python"
  },
  "datalore":{
   "version":1,
   "computation_mode":"JUPYTER",
   "package_manager":"pip",
   "base_environment":"default",
   "packages":[
    {
     "name":"pandas",
     "version":"1.5.0",
     "source":"PIP"
    }
   ]
  }
 },
 "nbformat":4,
 "nbformat_minor":4
}